{
 "cells": [
  {
   "cell_type": "code",
   "execution_count": 1,
   "id": "8314539c",
   "metadata": {
    "_cell_guid": "b1076dfc-b9ad-4769-8c92-a6c4dae69d19",
    "_uuid": "8f2839f25d086af736a60e9eeb907d3b93b6e0e5",
    "execution": {
     "iopub.execute_input": "2021-10-16T18:02:11.615942Z",
     "iopub.status.busy": "2021-10-16T18:02:11.615275Z",
     "iopub.status.idle": "2021-10-16T18:02:12.471783Z",
     "shell.execute_reply": "2021-10-16T18:02:12.472312Z",
     "shell.execute_reply.started": "2021-10-16T18:01:39.099756Z"
    },
    "papermill": {
     "duration": 0.890552,
     "end_time": "2021-10-16T18:02:12.472632",
     "exception": false,
     "start_time": "2021-10-16T18:02:11.582080",
     "status": "completed"
    },
    "tags": []
   },
   "outputs": [
    {
     "name": "stdout",
     "output_type": "stream",
     "text": [
      "/kaggle/input/virat-kohli-runs-in-test-matches/kohli-centuries-test.csv\n"
     ]
    }
   ],
   "source": [
    "# This Python 3 environment comes with many helpful analytics libraries installed\n",
    "# It is defined by the kaggle/python Docker image: https://github.com/kaggle/docker-python\n",
    "# For example, here's several helpful packages to load\n",
    "\n",
    "import numpy as np # linear algebra\n",
    "import pandas as pd # data processing, CSV file I/O (e.g. pd.read_csv)\n",
    "import matplotlib.pyplot as plt\n",
    "import seaborn as sns\n",
    "# Input data files are available in the read-only \"../input/\" directory\n",
    "# For example, running this (by clicking run or pressing Shift+Enter) will list all files under the input directory\n",
    "\n",
    "import os\n",
    "for dirname, _, filenames in os.walk('/kaggle/input'):\n",
    "    for filename in filenames:\n",
    "        print(os.path.join(dirname, filename))\n",
    "\n",
    "# You can write up to 20GB to the current directory (/kaggle/working/) that gets preserved as output when you create a version using \"Save & Run All\" \n",
    "# You can also write temporary files to /kaggle/temp/, but they won't be saved outside of the current session"
   ]
  },
  {
   "cell_type": "code",
   "execution_count": 2,
   "id": "cbd5156d",
   "metadata": {
    "execution": {
     "iopub.execute_input": "2021-10-16T18:02:12.515782Z",
     "iopub.status.busy": "2021-10-16T18:02:12.515049Z",
     "iopub.status.idle": "2021-10-16T18:02:12.526197Z",
     "shell.execute_reply": "2021-10-16T18:02:12.525601Z",
     "shell.execute_reply.started": "2021-10-16T18:01:39.113245Z"
    },
    "papermill": {
     "duration": 0.034422,
     "end_time": "2021-10-16T18:02:12.526341",
     "exception": false,
     "start_time": "2021-10-16T18:02:12.491919",
     "status": "completed"
    },
    "tags": []
   },
   "outputs": [],
   "source": [
    "data=pd.read_csv(\"/kaggle/input/virat-kohli-runs-in-test-matches/kohli-centuries-test.csv\")"
   ]
  },
  {
   "cell_type": "markdown",
   "id": "f14b0757",
   "metadata": {
    "papermill": {
     "duration": 0.018399,
     "end_time": "2021-10-16T18:02:12.563800",
     "exception": false,
     "start_time": "2021-10-16T18:02:12.545401",
     "status": "completed"
    },
    "tags": []
   },
   "source": [
    "* The pandas function read_csv() reads in values, where the delimiter is a comma character. You can export a file into a csv file in any modern office suite including Google Sheets. Use the following csv data as an example. If you want to export data from a DataFrame or pandas.\n",
    "* By doing so the entire data in the data set is in our hands we would later use this data as we desire****"
   ]
  },
  {
   "cell_type": "code",
   "execution_count": 3,
   "id": "8764eb02",
   "metadata": {
    "execution": {
     "iopub.execute_input": "2021-10-16T18:02:12.605387Z",
     "iopub.status.busy": "2021-10-16T18:02:12.604382Z",
     "iopub.status.idle": "2021-10-16T18:02:12.633949Z",
     "shell.execute_reply": "2021-10-16T18:02:12.633400Z",
     "shell.execute_reply.started": "2021-10-16T18:01:39.132786Z"
    },
    "papermill": {
     "duration": 0.05161,
     "end_time": "2021-10-16T18:02:12.634095",
     "exception": false,
     "start_time": "2021-10-16T18:02:12.582485",
     "status": "completed"
    },
    "tags": []
   },
   "outputs": [
    {
     "data": {
      "text/html": [
       "<div>\n",
       "<style scoped>\n",
       "    .dataframe tbody tr th:only-of-type {\n",
       "        vertical-align: middle;\n",
       "    }\n",
       "\n",
       "    .dataframe tbody tr th {\n",
       "        vertical-align: top;\n",
       "    }\n",
       "\n",
       "    .dataframe thead th {\n",
       "        text-align: right;\n",
       "    }\n",
       "</style>\n",
       "<table border=\"1\" class=\"dataframe\">\n",
       "  <thead>\n",
       "    <tr style=\"text-align: right;\">\n",
       "      <th></th>\n",
       "      <th>Bat1</th>\n",
       "      <th>Bat2</th>\n",
       "      <th>Runs</th>\n",
       "      <th>Wkts</th>\n",
       "      <th>Conc</th>\n",
       "      <th>Ct</th>\n",
       "      <th>St</th>\n",
       "      <th>Unnamed: 7</th>\n",
       "      <th>Opposition</th>\n",
       "      <th>Ground</th>\n",
       "      <th>Start Date</th>\n",
       "    </tr>\n",
       "  </thead>\n",
       "  <tbody>\n",
       "    <tr>\n",
       "      <th>0</th>\n",
       "      <td>4</td>\n",
       "      <td>15</td>\n",
       "      <td>19</td>\n",
       "      <td>-</td>\n",
       "      <td>-</td>\n",
       "      <td>2</td>\n",
       "      <td>0</td>\n",
       "      <td>NaN</td>\n",
       "      <td>v West Indies</td>\n",
       "      <td>Kingston</td>\n",
       "      <td>20-Jun-11</td>\n",
       "    </tr>\n",
       "    <tr>\n",
       "      <th>1</th>\n",
       "      <td>0</td>\n",
       "      <td>27</td>\n",
       "      <td>27</td>\n",
       "      <td>-</td>\n",
       "      <td>-</td>\n",
       "      <td>2</td>\n",
       "      <td>0</td>\n",
       "      <td>NaN</td>\n",
       "      <td>v West Indies</td>\n",
       "      <td>Bridgetown</td>\n",
       "      <td>28-Jun-11</td>\n",
       "    </tr>\n",
       "    <tr>\n",
       "      <th>2</th>\n",
       "      <td>30</td>\n",
       "      <td>DNB</td>\n",
       "      <td>30</td>\n",
       "      <td>-</td>\n",
       "      <td>-</td>\n",
       "      <td>1</td>\n",
       "      <td>0</td>\n",
       "      <td>NaN</td>\n",
       "      <td>v West Indies</td>\n",
       "      <td>Roseau</td>\n",
       "      <td>6-Jul-11</td>\n",
       "    </tr>\n",
       "    <tr>\n",
       "      <th>3</th>\n",
       "      <td>52</td>\n",
       "      <td>63</td>\n",
       "      <td>115</td>\n",
       "      <td>0</td>\n",
       "      <td>9</td>\n",
       "      <td>2</td>\n",
       "      <td>0</td>\n",
       "      <td>NaN</td>\n",
       "      <td>v West Indies</td>\n",
       "      <td>Mumbai</td>\n",
       "      <td>22-Nov-11</td>\n",
       "    </tr>\n",
       "    <tr>\n",
       "      <th>4</th>\n",
       "      <td>11</td>\n",
       "      <td>0</td>\n",
       "      <td>11</td>\n",
       "      <td>-</td>\n",
       "      <td>-</td>\n",
       "      <td>2</td>\n",
       "      <td>0</td>\n",
       "      <td>NaN</td>\n",
       "      <td>v Australia</td>\n",
       "      <td>Melbourne</td>\n",
       "      <td>26-Dec-11</td>\n",
       "    </tr>\n",
       "    <tr>\n",
       "      <th>...</th>\n",
       "      <td>...</td>\n",
       "      <td>...</td>\n",
       "      <td>...</td>\n",
       "      <td>...</td>\n",
       "      <td>...</td>\n",
       "      <td>...</td>\n",
       "      <td>...</td>\n",
       "      <td>...</td>\n",
       "      <td>...</td>\n",
       "      <td>...</td>\n",
       "      <td>...</td>\n",
       "    </tr>\n",
       "    <tr>\n",
       "      <th>64</th>\n",
       "      <td>153</td>\n",
       "      <td>5</td>\n",
       "      <td>158</td>\n",
       "      <td>-</td>\n",
       "      <td>-</td>\n",
       "      <td>2</td>\n",
       "      <td>0</td>\n",
       "      <td>NaN</td>\n",
       "      <td>v South Africa</td>\n",
       "      <td>Centurion</td>\n",
       "      <td>13-Jan-18</td>\n",
       "    </tr>\n",
       "    <tr>\n",
       "      <th>65</th>\n",
       "      <td>54</td>\n",
       "      <td>41</td>\n",
       "      <td>95</td>\n",
       "      <td>-</td>\n",
       "      <td>-</td>\n",
       "      <td>0</td>\n",
       "      <td>0</td>\n",
       "      <td>NaN</td>\n",
       "      <td>v South Africa</td>\n",
       "      <td>Johannesburg</td>\n",
       "      <td>24-Jan-18</td>\n",
       "    </tr>\n",
       "    <tr>\n",
       "      <th>66</th>\n",
       "      <td>149</td>\n",
       "      <td>51</td>\n",
       "      <td>200</td>\n",
       "      <td>-</td>\n",
       "      <td>-</td>\n",
       "      <td>1</td>\n",
       "      <td>0</td>\n",
       "      <td>NaN</td>\n",
       "      <td>v England</td>\n",
       "      <td>Birmingham</td>\n",
       "      <td>1-Aug-18</td>\n",
       "    </tr>\n",
       "    <tr>\n",
       "      <th>67</th>\n",
       "      <td>23</td>\n",
       "      <td>17</td>\n",
       "      <td>40</td>\n",
       "      <td>-</td>\n",
       "      <td>-</td>\n",
       "      <td>0</td>\n",
       "      <td>0</td>\n",
       "      <td>NaN</td>\n",
       "      <td>v England</td>\n",
       "      <td>Lord's</td>\n",
       "      <td>9-Aug-18</td>\n",
       "    </tr>\n",
       "    <tr>\n",
       "      <th>68</th>\n",
       "      <td>97</td>\n",
       "      <td>103</td>\n",
       "      <td>200</td>\n",
       "      <td>-</td>\n",
       "      <td>-</td>\n",
       "      <td>1</td>\n",
       "      <td>0</td>\n",
       "      <td>NaN</td>\n",
       "      <td>v England</td>\n",
       "      <td>Nottingham</td>\n",
       "      <td>18-Aug-18</td>\n",
       "    </tr>\n",
       "  </tbody>\n",
       "</table>\n",
       "<p>69 rows × 11 columns</p>\n",
       "</div>"
      ],
      "text/plain": [
       "   Bat1 Bat2 Runs Wkts Conc  Ct  St  Unnamed: 7      Opposition        Ground  \\\n",
       "0     4   15   19    -    -   2   0         NaN   v West Indies      Kingston   \n",
       "1     0   27   27    -    -   2   0         NaN   v West Indies    Bridgetown   \n",
       "2    30  DNB   30    -    -   1   0         NaN   v West Indies        Roseau   \n",
       "3    52   63  115    0    9   2   0         NaN   v West Indies        Mumbai   \n",
       "4    11    0   11    -    -   2   0         NaN     v Australia     Melbourne   \n",
       "..  ...  ...  ...  ...  ...  ..  ..         ...             ...           ...   \n",
       "64  153    5  158    -    -   2   0         NaN  v South Africa     Centurion   \n",
       "65   54   41   95    -    -   0   0         NaN  v South Africa  Johannesburg   \n",
       "66  149   51  200    -    -   1   0         NaN       v England    Birmingham   \n",
       "67   23   17   40    -    -   0   0         NaN       v England        Lord's   \n",
       "68   97  103  200    -    -   1   0         NaN       v England    Nottingham   \n",
       "\n",
       "   Start Date  \n",
       "0   20-Jun-11  \n",
       "1   28-Jun-11  \n",
       "2    6-Jul-11  \n",
       "3   22-Nov-11  \n",
       "4   26-Dec-11  \n",
       "..        ...  \n",
       "64  13-Jan-18  \n",
       "65  24-Jan-18  \n",
       "66   1-Aug-18  \n",
       "67   9-Aug-18  \n",
       "68  18-Aug-18  \n",
       "\n",
       "[69 rows x 11 columns]"
      ]
     },
     "execution_count": 3,
     "metadata": {},
     "output_type": "execute_result"
    }
   ],
   "source": [
    "data"
   ]
  },
  {
   "cell_type": "markdown",
   "id": "246886dd",
   "metadata": {
    "papermill": {
     "duration": 0.019207,
     "end_time": "2021-10-16T18:02:12.672931",
     "exception": false,
     "start_time": "2021-10-16T18:02:12.653724",
     "status": "completed"
    },
    "tags": []
   },
   "source": [
    "**Since the data set is csv file,we have got entire data in tabular form"
   ]
  },
  {
   "cell_type": "code",
   "execution_count": 4,
   "id": "468b7f2a",
   "metadata": {
    "execution": {
     "iopub.execute_input": "2021-10-16T18:02:12.727751Z",
     "iopub.status.busy": "2021-10-16T18:02:12.726964Z",
     "iopub.status.idle": "2021-10-16T18:02:12.730253Z",
     "shell.execute_reply": "2021-10-16T18:02:12.730778Z",
     "shell.execute_reply.started": "2021-10-16T18:01:39.162617Z"
    },
    "papermill": {
     "duration": 0.038692,
     "end_time": "2021-10-16T18:02:12.730943",
     "exception": false,
     "start_time": "2021-10-16T18:02:12.692251",
     "status": "completed"
    },
    "tags": []
   },
   "outputs": [
    {
     "data": {
      "text/html": [
       "<div>\n",
       "<style scoped>\n",
       "    .dataframe tbody tr th:only-of-type {\n",
       "        vertical-align: middle;\n",
       "    }\n",
       "\n",
       "    .dataframe tbody tr th {\n",
       "        vertical-align: top;\n",
       "    }\n",
       "\n",
       "    .dataframe thead th {\n",
       "        text-align: right;\n",
       "    }\n",
       "</style>\n",
       "<table border=\"1\" class=\"dataframe\">\n",
       "  <thead>\n",
       "    <tr style=\"text-align: right;\">\n",
       "      <th></th>\n",
       "      <th>Bat1</th>\n",
       "      <th>Bat2</th>\n",
       "      <th>Runs</th>\n",
       "      <th>Wkts</th>\n",
       "      <th>Conc</th>\n",
       "      <th>Ct</th>\n",
       "      <th>St</th>\n",
       "      <th>Unnamed: 7</th>\n",
       "      <th>Opposition</th>\n",
       "      <th>Ground</th>\n",
       "      <th>Start Date</th>\n",
       "    </tr>\n",
       "  </thead>\n",
       "  <tbody>\n",
       "    <tr>\n",
       "      <th>0</th>\n",
       "      <td>4</td>\n",
       "      <td>15</td>\n",
       "      <td>19</td>\n",
       "      <td>-</td>\n",
       "      <td>-</td>\n",
       "      <td>2</td>\n",
       "      <td>0</td>\n",
       "      <td>NaN</td>\n",
       "      <td>v West Indies</td>\n",
       "      <td>Kingston</td>\n",
       "      <td>20-Jun-11</td>\n",
       "    </tr>\n",
       "    <tr>\n",
       "      <th>1</th>\n",
       "      <td>0</td>\n",
       "      <td>27</td>\n",
       "      <td>27</td>\n",
       "      <td>-</td>\n",
       "      <td>-</td>\n",
       "      <td>2</td>\n",
       "      <td>0</td>\n",
       "      <td>NaN</td>\n",
       "      <td>v West Indies</td>\n",
       "      <td>Bridgetown</td>\n",
       "      <td>28-Jun-11</td>\n",
       "    </tr>\n",
       "    <tr>\n",
       "      <th>2</th>\n",
       "      <td>30</td>\n",
       "      <td>DNB</td>\n",
       "      <td>30</td>\n",
       "      <td>-</td>\n",
       "      <td>-</td>\n",
       "      <td>1</td>\n",
       "      <td>0</td>\n",
       "      <td>NaN</td>\n",
       "      <td>v West Indies</td>\n",
       "      <td>Roseau</td>\n",
       "      <td>6-Jul-11</td>\n",
       "    </tr>\n",
       "    <tr>\n",
       "      <th>3</th>\n",
       "      <td>52</td>\n",
       "      <td>63</td>\n",
       "      <td>115</td>\n",
       "      <td>0</td>\n",
       "      <td>9</td>\n",
       "      <td>2</td>\n",
       "      <td>0</td>\n",
       "      <td>NaN</td>\n",
       "      <td>v West Indies</td>\n",
       "      <td>Mumbai</td>\n",
       "      <td>22-Nov-11</td>\n",
       "    </tr>\n",
       "    <tr>\n",
       "      <th>4</th>\n",
       "      <td>11</td>\n",
       "      <td>0</td>\n",
       "      <td>11</td>\n",
       "      <td>-</td>\n",
       "      <td>-</td>\n",
       "      <td>2</td>\n",
       "      <td>0</td>\n",
       "      <td>NaN</td>\n",
       "      <td>v Australia</td>\n",
       "      <td>Melbourne</td>\n",
       "      <td>26-Dec-11</td>\n",
       "    </tr>\n",
       "  </tbody>\n",
       "</table>\n",
       "</div>"
      ],
      "text/plain": [
       "  Bat1 Bat2 Runs Wkts Conc  Ct  St  Unnamed: 7     Opposition      Ground  \\\n",
       "0    4   15   19    -    -   2   0         NaN  v West Indies    Kingston   \n",
       "1    0   27   27    -    -   2   0         NaN  v West Indies  Bridgetown   \n",
       "2   30  DNB   30    -    -   1   0         NaN  v West Indies      Roseau   \n",
       "3   52   63  115    0    9   2   0         NaN  v West Indies      Mumbai   \n",
       "4   11    0   11    -    -   2   0         NaN    v Australia   Melbourne   \n",
       "\n",
       "  Start Date  \n",
       "0  20-Jun-11  \n",
       "1  28-Jun-11  \n",
       "2   6-Jul-11  \n",
       "3  22-Nov-11  \n",
       "4  26-Dec-11  "
      ]
     },
     "execution_count": 4,
     "metadata": {},
     "output_type": "execute_result"
    }
   ],
   "source": [
    "data.head()"
   ]
  },
  {
   "cell_type": "markdown",
   "id": "42039f23",
   "metadata": {
    "papermill": {
     "duration": 0.019365,
     "end_time": "2021-10-16T18:02:12.770340",
     "exception": false,
     "start_time": "2021-10-16T18:02:12.750975",
     "status": "completed"
    },
    "tags": []
   },
   "source": [
    "* The head() function is used to get the first n (5 by default) rows. This function returns the first n(5 by default) rows for the object based on position. It is useful for quickly testing if your object has the right type of data in it\n",
    "So that we came to know that our data is perfect!"
   ]
  },
  {
   "cell_type": "code",
   "execution_count": 5,
   "id": "eccee393",
   "metadata": {
    "execution": {
     "iopub.execute_input": "2021-10-16T18:02:12.813694Z",
     "iopub.status.busy": "2021-10-16T18:02:12.812718Z",
     "iopub.status.idle": "2021-10-16T18:02:12.826676Z",
     "shell.execute_reply": "2021-10-16T18:02:12.827174Z",
     "shell.execute_reply.started": "2021-10-16T18:01:39.187204Z"
    },
    "papermill": {
     "duration": 0.037249,
     "end_time": "2021-10-16T18:02:12.827343",
     "exception": false,
     "start_time": "2021-10-16T18:02:12.790094",
     "status": "completed"
    },
    "tags": []
   },
   "outputs": [
    {
     "data": {
      "text/html": [
       "<div>\n",
       "<style scoped>\n",
       "    .dataframe tbody tr th:only-of-type {\n",
       "        vertical-align: middle;\n",
       "    }\n",
       "\n",
       "    .dataframe tbody tr th {\n",
       "        vertical-align: top;\n",
       "    }\n",
       "\n",
       "    .dataframe thead th {\n",
       "        text-align: right;\n",
       "    }\n",
       "</style>\n",
       "<table border=\"1\" class=\"dataframe\">\n",
       "  <thead>\n",
       "    <tr style=\"text-align: right;\">\n",
       "      <th></th>\n",
       "      <th>Bat1</th>\n",
       "      <th>Bat2</th>\n",
       "      <th>Runs</th>\n",
       "      <th>Wkts</th>\n",
       "      <th>Conc</th>\n",
       "      <th>Ct</th>\n",
       "      <th>St</th>\n",
       "      <th>Unnamed: 7</th>\n",
       "      <th>Opposition</th>\n",
       "      <th>Ground</th>\n",
       "      <th>Start Date</th>\n",
       "    </tr>\n",
       "  </thead>\n",
       "  <tbody>\n",
       "    <tr>\n",
       "      <th>64</th>\n",
       "      <td>153</td>\n",
       "      <td>5</td>\n",
       "      <td>158</td>\n",
       "      <td>-</td>\n",
       "      <td>-</td>\n",
       "      <td>2</td>\n",
       "      <td>0</td>\n",
       "      <td>NaN</td>\n",
       "      <td>v South Africa</td>\n",
       "      <td>Centurion</td>\n",
       "      <td>13-Jan-18</td>\n",
       "    </tr>\n",
       "    <tr>\n",
       "      <th>65</th>\n",
       "      <td>54</td>\n",
       "      <td>41</td>\n",
       "      <td>95</td>\n",
       "      <td>-</td>\n",
       "      <td>-</td>\n",
       "      <td>0</td>\n",
       "      <td>0</td>\n",
       "      <td>NaN</td>\n",
       "      <td>v South Africa</td>\n",
       "      <td>Johannesburg</td>\n",
       "      <td>24-Jan-18</td>\n",
       "    </tr>\n",
       "    <tr>\n",
       "      <th>66</th>\n",
       "      <td>149</td>\n",
       "      <td>51</td>\n",
       "      <td>200</td>\n",
       "      <td>-</td>\n",
       "      <td>-</td>\n",
       "      <td>1</td>\n",
       "      <td>0</td>\n",
       "      <td>NaN</td>\n",
       "      <td>v England</td>\n",
       "      <td>Birmingham</td>\n",
       "      <td>1-Aug-18</td>\n",
       "    </tr>\n",
       "    <tr>\n",
       "      <th>67</th>\n",
       "      <td>23</td>\n",
       "      <td>17</td>\n",
       "      <td>40</td>\n",
       "      <td>-</td>\n",
       "      <td>-</td>\n",
       "      <td>0</td>\n",
       "      <td>0</td>\n",
       "      <td>NaN</td>\n",
       "      <td>v England</td>\n",
       "      <td>Lord's</td>\n",
       "      <td>9-Aug-18</td>\n",
       "    </tr>\n",
       "    <tr>\n",
       "      <th>68</th>\n",
       "      <td>97</td>\n",
       "      <td>103</td>\n",
       "      <td>200</td>\n",
       "      <td>-</td>\n",
       "      <td>-</td>\n",
       "      <td>1</td>\n",
       "      <td>0</td>\n",
       "      <td>NaN</td>\n",
       "      <td>v England</td>\n",
       "      <td>Nottingham</td>\n",
       "      <td>18-Aug-18</td>\n",
       "    </tr>\n",
       "  </tbody>\n",
       "</table>\n",
       "</div>"
      ],
      "text/plain": [
       "   Bat1 Bat2 Runs Wkts Conc  Ct  St  Unnamed: 7      Opposition        Ground  \\\n",
       "64  153    5  158    -    -   2   0         NaN  v South Africa     Centurion   \n",
       "65   54   41   95    -    -   0   0         NaN  v South Africa  Johannesburg   \n",
       "66  149   51  200    -    -   1   0         NaN       v England    Birmingham   \n",
       "67   23   17   40    -    -   0   0         NaN       v England        Lord's   \n",
       "68   97  103  200    -    -   1   0         NaN       v England    Nottingham   \n",
       "\n",
       "   Start Date  \n",
       "64  13-Jan-18  \n",
       "65  24-Jan-18  \n",
       "66   1-Aug-18  \n",
       "67   9-Aug-18  \n",
       "68  18-Aug-18  "
      ]
     },
     "execution_count": 5,
     "metadata": {},
     "output_type": "execute_result"
    }
   ],
   "source": [
    "data.tail()"
   ]
  },
  {
   "cell_type": "markdown",
   "id": "204a2209",
   "metadata": {
    "papermill": {
     "duration": 0.020146,
     "end_time": "2021-10-16T18:02:12.867841",
     "exception": false,
     "start_time": "2021-10-16T18:02:12.847695",
     "status": "completed"
    },
    "tags": []
   },
   "source": [
    "* Return the last n(5 by default) rows. This function returns last n(5 by default) rows from the object based on position. It is useful for quickly verifying data.\n",
    "Just re-verifying!!"
   ]
  },
  {
   "cell_type": "code",
   "execution_count": 6,
   "id": "19f0acbc",
   "metadata": {
    "execution": {
     "iopub.execute_input": "2021-10-16T18:02:12.914393Z",
     "iopub.status.busy": "2021-10-16T18:02:12.913507Z",
     "iopub.status.idle": "2021-10-16T18:02:12.917271Z",
     "shell.execute_reply": "2021-10-16T18:02:12.916783Z",
     "shell.execute_reply.started": "2021-10-16T18:01:39.211343Z"
    },
    "papermill": {
     "duration": 0.029213,
     "end_time": "2021-10-16T18:02:12.917411",
     "exception": false,
     "start_time": "2021-10-16T18:02:12.888198",
     "status": "completed"
    },
    "tags": []
   },
   "outputs": [
    {
     "data": {
      "text/plain": [
       "Index(['Bat1', 'Bat2', 'Runs', 'Wkts', 'Conc', 'Ct', 'St', 'Unnamed: 7',\n",
       "       'Opposition', 'Ground', 'Start Date'],\n",
       "      dtype='object')"
      ]
     },
     "execution_count": 6,
     "metadata": {},
     "output_type": "execute_result"
    }
   ],
   "source": [
    "data.columns"
   ]
  },
  {
   "cell_type": "markdown",
   "id": "827259b9",
   "metadata": {
    "papermill": {
     "duration": 0.020116,
     "end_time": "2021-10-16T18:02:12.958140",
     "exception": false,
     "start_time": "2021-10-16T18:02:12.938024",
     "status": "completed"
    },
    "tags": []
   },
   "source": [
    "* columns attribute return the column labels of the given Dataframe.\n",
    "* We have got all the coloumns(Headings/Parameters) in our Data"
   ]
  },
  {
   "cell_type": "code",
   "execution_count": 7,
   "id": "4bd6acf7",
   "metadata": {
    "execution": {
     "iopub.execute_input": "2021-10-16T18:02:13.004606Z",
     "iopub.status.busy": "2021-10-16T18:02:13.003801Z",
     "iopub.status.idle": "2021-10-16T18:02:13.006948Z",
     "shell.execute_reply": "2021-10-16T18:02:13.007444Z",
     "shell.execute_reply.started": "2021-10-16T18:01:39.228051Z"
    },
    "papermill": {
     "duration": 0.029027,
     "end_time": "2021-10-16T18:02:13.007631",
     "exception": false,
     "start_time": "2021-10-16T18:02:12.978604",
     "status": "completed"
    },
    "tags": []
   },
   "outputs": [
    {
     "data": {
      "text/plain": [
       "(69, 11)"
      ]
     },
     "execution_count": 7,
     "metadata": {},
     "output_type": "execute_result"
    }
   ],
   "source": [
    "data.shape"
   ]
  },
  {
   "cell_type": "markdown",
   "id": "8b229287",
   "metadata": {
    "papermill": {
     "duration": 0.020557,
     "end_time": "2021-10-16T18:02:13.049212",
     "exception": false,
     "start_time": "2021-10-16T18:02:13.028655",
     "status": "completed"
    },
    "tags": []
   },
   "source": [
    "* The shape attribute of pandas stores the number of rows and columns as a tuple(number of rows, number of columns)\n",
    "We came to know that our data has 93 rows and 8 columns"
   ]
  },
  {
   "cell_type": "code",
   "execution_count": 8,
   "id": "592b1197",
   "metadata": {
    "execution": {
     "iopub.execute_input": "2021-10-16T18:02:13.101671Z",
     "iopub.status.busy": "2021-10-16T18:02:13.100898Z",
     "iopub.status.idle": "2021-10-16T18:02:13.104664Z",
     "shell.execute_reply": "2021-10-16T18:02:13.104065Z",
     "shell.execute_reply.started": "2021-10-16T18:01:39.246549Z"
    },
    "papermill": {
     "duration": 0.034618,
     "end_time": "2021-10-16T18:02:13.104815",
     "exception": false,
     "start_time": "2021-10-16T18:02:13.070197",
     "status": "completed"
    },
    "tags": []
   },
   "outputs": [
    {
     "data": {
      "text/plain": [
       "object     8\n",
       "int64      2\n",
       "float64    1\n",
       "dtype: int64"
      ]
     },
     "execution_count": 8,
     "metadata": {},
     "output_type": "execute_result"
    }
   ],
   "source": [
    "data.dtypes.value_counts()"
   ]
  },
  {
   "cell_type": "markdown",
   "id": "3a2d8d49",
   "metadata": {
    "papermill": {
     "duration": 0.021243,
     "end_time": "2021-10-16T18:02:13.147692",
     "exception": false,
     "start_time": "2021-10-16T18:02:13.126449",
     "status": "completed"
    },
    "tags": []
   },
   "source": [
    "We have used the value_counts() function to get a Series containing counts of unique values\n",
    "Now,We know the number of unique values in our Data"
   ]
  },
  {
   "cell_type": "code",
   "execution_count": 9,
   "id": "96cf9833",
   "metadata": {
    "execution": {
     "iopub.execute_input": "2021-10-16T18:02:13.212603Z",
     "iopub.status.busy": "2021-10-16T18:02:13.211931Z",
     "iopub.status.idle": "2021-10-16T18:02:13.215160Z",
     "shell.execute_reply": "2021-10-16T18:02:13.214603Z",
     "shell.execute_reply.started": "2021-10-16T18:01:39.263478Z"
    },
    "papermill": {
     "duration": 0.046226,
     "end_time": "2021-10-16T18:02:13.215300",
     "exception": false,
     "start_time": "2021-10-16T18:02:13.169074",
     "status": "completed"
    },
    "tags": []
   },
   "outputs": [
    {
     "data": {
      "text/html": [
       "<div>\n",
       "<style scoped>\n",
       "    .dataframe tbody tr th:only-of-type {\n",
       "        vertical-align: middle;\n",
       "    }\n",
       "\n",
       "    .dataframe tbody tr th {\n",
       "        vertical-align: top;\n",
       "    }\n",
       "\n",
       "    .dataframe thead th {\n",
       "        text-align: right;\n",
       "    }\n",
       "</style>\n",
       "<table border=\"1\" class=\"dataframe\">\n",
       "  <thead>\n",
       "    <tr style=\"text-align: right;\">\n",
       "      <th></th>\n",
       "      <th>Bat1</th>\n",
       "      <th>Bat2</th>\n",
       "      <th>Runs</th>\n",
       "      <th>Wkts</th>\n",
       "      <th>Conc</th>\n",
       "      <th>Ct</th>\n",
       "      <th>St</th>\n",
       "      <th>Unnamed: 7</th>\n",
       "      <th>Opposition</th>\n",
       "      <th>Ground</th>\n",
       "      <th>Start Date</th>\n",
       "    </tr>\n",
       "  </thead>\n",
       "  <tbody>\n",
       "    <tr>\n",
       "      <th>0</th>\n",
       "      <td>False</td>\n",
       "      <td>False</td>\n",
       "      <td>False</td>\n",
       "      <td>False</td>\n",
       "      <td>False</td>\n",
       "      <td>False</td>\n",
       "      <td>False</td>\n",
       "      <td>True</td>\n",
       "      <td>False</td>\n",
       "      <td>False</td>\n",
       "      <td>False</td>\n",
       "    </tr>\n",
       "    <tr>\n",
       "      <th>1</th>\n",
       "      <td>False</td>\n",
       "      <td>False</td>\n",
       "      <td>False</td>\n",
       "      <td>False</td>\n",
       "      <td>False</td>\n",
       "      <td>False</td>\n",
       "      <td>False</td>\n",
       "      <td>True</td>\n",
       "      <td>False</td>\n",
       "      <td>False</td>\n",
       "      <td>False</td>\n",
       "    </tr>\n",
       "    <tr>\n",
       "      <th>2</th>\n",
       "      <td>False</td>\n",
       "      <td>False</td>\n",
       "      <td>False</td>\n",
       "      <td>False</td>\n",
       "      <td>False</td>\n",
       "      <td>False</td>\n",
       "      <td>False</td>\n",
       "      <td>True</td>\n",
       "      <td>False</td>\n",
       "      <td>False</td>\n",
       "      <td>False</td>\n",
       "    </tr>\n",
       "    <tr>\n",
       "      <th>3</th>\n",
       "      <td>False</td>\n",
       "      <td>False</td>\n",
       "      <td>False</td>\n",
       "      <td>False</td>\n",
       "      <td>False</td>\n",
       "      <td>False</td>\n",
       "      <td>False</td>\n",
       "      <td>True</td>\n",
       "      <td>False</td>\n",
       "      <td>False</td>\n",
       "      <td>False</td>\n",
       "    </tr>\n",
       "    <tr>\n",
       "      <th>4</th>\n",
       "      <td>False</td>\n",
       "      <td>False</td>\n",
       "      <td>False</td>\n",
       "      <td>False</td>\n",
       "      <td>False</td>\n",
       "      <td>False</td>\n",
       "      <td>False</td>\n",
       "      <td>True</td>\n",
       "      <td>False</td>\n",
       "      <td>False</td>\n",
       "      <td>False</td>\n",
       "    </tr>\n",
       "    <tr>\n",
       "      <th>...</th>\n",
       "      <td>...</td>\n",
       "      <td>...</td>\n",
       "      <td>...</td>\n",
       "      <td>...</td>\n",
       "      <td>...</td>\n",
       "      <td>...</td>\n",
       "      <td>...</td>\n",
       "      <td>...</td>\n",
       "      <td>...</td>\n",
       "      <td>...</td>\n",
       "      <td>...</td>\n",
       "    </tr>\n",
       "    <tr>\n",
       "      <th>64</th>\n",
       "      <td>False</td>\n",
       "      <td>False</td>\n",
       "      <td>False</td>\n",
       "      <td>False</td>\n",
       "      <td>False</td>\n",
       "      <td>False</td>\n",
       "      <td>False</td>\n",
       "      <td>True</td>\n",
       "      <td>False</td>\n",
       "      <td>False</td>\n",
       "      <td>False</td>\n",
       "    </tr>\n",
       "    <tr>\n",
       "      <th>65</th>\n",
       "      <td>False</td>\n",
       "      <td>False</td>\n",
       "      <td>False</td>\n",
       "      <td>False</td>\n",
       "      <td>False</td>\n",
       "      <td>False</td>\n",
       "      <td>False</td>\n",
       "      <td>True</td>\n",
       "      <td>False</td>\n",
       "      <td>False</td>\n",
       "      <td>False</td>\n",
       "    </tr>\n",
       "    <tr>\n",
       "      <th>66</th>\n",
       "      <td>False</td>\n",
       "      <td>False</td>\n",
       "      <td>False</td>\n",
       "      <td>False</td>\n",
       "      <td>False</td>\n",
       "      <td>False</td>\n",
       "      <td>False</td>\n",
       "      <td>True</td>\n",
       "      <td>False</td>\n",
       "      <td>False</td>\n",
       "      <td>False</td>\n",
       "    </tr>\n",
       "    <tr>\n",
       "      <th>67</th>\n",
       "      <td>False</td>\n",
       "      <td>False</td>\n",
       "      <td>False</td>\n",
       "      <td>False</td>\n",
       "      <td>False</td>\n",
       "      <td>False</td>\n",
       "      <td>False</td>\n",
       "      <td>True</td>\n",
       "      <td>False</td>\n",
       "      <td>False</td>\n",
       "      <td>False</td>\n",
       "    </tr>\n",
       "    <tr>\n",
       "      <th>68</th>\n",
       "      <td>False</td>\n",
       "      <td>False</td>\n",
       "      <td>False</td>\n",
       "      <td>False</td>\n",
       "      <td>False</td>\n",
       "      <td>False</td>\n",
       "      <td>False</td>\n",
       "      <td>True</td>\n",
       "      <td>False</td>\n",
       "      <td>False</td>\n",
       "      <td>False</td>\n",
       "    </tr>\n",
       "  </tbody>\n",
       "</table>\n",
       "<p>69 rows × 11 columns</p>\n",
       "</div>"
      ],
      "text/plain": [
       "     Bat1   Bat2   Runs   Wkts   Conc     Ct     St  Unnamed: 7  Opposition  \\\n",
       "0   False  False  False  False  False  False  False        True       False   \n",
       "1   False  False  False  False  False  False  False        True       False   \n",
       "2   False  False  False  False  False  False  False        True       False   \n",
       "3   False  False  False  False  False  False  False        True       False   \n",
       "4   False  False  False  False  False  False  False        True       False   \n",
       "..    ...    ...    ...    ...    ...    ...    ...         ...         ...   \n",
       "64  False  False  False  False  False  False  False        True       False   \n",
       "65  False  False  False  False  False  False  False        True       False   \n",
       "66  False  False  False  False  False  False  False        True       False   \n",
       "67  False  False  False  False  False  False  False        True       False   \n",
       "68  False  False  False  False  False  False  False        True       False   \n",
       "\n",
       "    Ground  Start Date  \n",
       "0    False       False  \n",
       "1    False       False  \n",
       "2    False       False  \n",
       "3    False       False  \n",
       "4    False       False  \n",
       "..     ...         ...  \n",
       "64   False       False  \n",
       "65   False       False  \n",
       "66   False       False  \n",
       "67   False       False  \n",
       "68   False       False  \n",
       "\n",
       "[69 rows x 11 columns]"
      ]
     },
     "execution_count": 9,
     "metadata": {},
     "output_type": "execute_result"
    }
   ],
   "source": [
    "data.isnull()"
   ]
  },
  {
   "cell_type": "code",
   "execution_count": 10,
   "id": "d4cae3b0",
   "metadata": {
    "execution": {
     "iopub.execute_input": "2021-10-16T18:02:13.271845Z",
     "iopub.status.busy": "2021-10-16T18:02:13.269387Z",
     "iopub.status.idle": "2021-10-16T18:02:13.288370Z",
     "shell.execute_reply": "2021-10-16T18:02:13.287827Z",
     "shell.execute_reply.started": "2021-10-16T18:01:39.295532Z"
    },
    "papermill": {
     "duration": 0.050986,
     "end_time": "2021-10-16T18:02:13.288509",
     "exception": false,
     "start_time": "2021-10-16T18:02:13.237523",
     "status": "completed"
    },
    "tags": []
   },
   "outputs": [
    {
     "data": {
      "text/html": [
       "<div>\n",
       "<style scoped>\n",
       "    .dataframe tbody tr th:only-of-type {\n",
       "        vertical-align: middle;\n",
       "    }\n",
       "\n",
       "    .dataframe tbody tr th {\n",
       "        vertical-align: top;\n",
       "    }\n",
       "\n",
       "    .dataframe thead th {\n",
       "        text-align: right;\n",
       "    }\n",
       "</style>\n",
       "<table border=\"1\" class=\"dataframe\">\n",
       "  <thead>\n",
       "    <tr style=\"text-align: right;\">\n",
       "      <th></th>\n",
       "      <th>Ct</th>\n",
       "      <th>St</th>\n",
       "      <th>Unnamed: 7</th>\n",
       "    </tr>\n",
       "  </thead>\n",
       "  <tbody>\n",
       "    <tr>\n",
       "      <th>count</th>\n",
       "      <td>69.000000</td>\n",
       "      <td>69.0</td>\n",
       "      <td>0.0</td>\n",
       "    </tr>\n",
       "    <tr>\n",
       "      <th>mean</th>\n",
       "      <td>0.942029</td>\n",
       "      <td>0.0</td>\n",
       "      <td>NaN</td>\n",
       "    </tr>\n",
       "    <tr>\n",
       "      <th>std</th>\n",
       "      <td>0.855502</td>\n",
       "      <td>0.0</td>\n",
       "      <td>NaN</td>\n",
       "    </tr>\n",
       "    <tr>\n",
       "      <th>min</th>\n",
       "      <td>0.000000</td>\n",
       "      <td>0.0</td>\n",
       "      <td>NaN</td>\n",
       "    </tr>\n",
       "    <tr>\n",
       "      <th>25%</th>\n",
       "      <td>0.000000</td>\n",
       "      <td>0.0</td>\n",
       "      <td>NaN</td>\n",
       "    </tr>\n",
       "    <tr>\n",
       "      <th>50%</th>\n",
       "      <td>1.000000</td>\n",
       "      <td>0.0</td>\n",
       "      <td>NaN</td>\n",
       "    </tr>\n",
       "    <tr>\n",
       "      <th>75%</th>\n",
       "      <td>2.000000</td>\n",
       "      <td>0.0</td>\n",
       "      <td>NaN</td>\n",
       "    </tr>\n",
       "    <tr>\n",
       "      <th>max</th>\n",
       "      <td>4.000000</td>\n",
       "      <td>0.0</td>\n",
       "      <td>NaN</td>\n",
       "    </tr>\n",
       "  </tbody>\n",
       "</table>\n",
       "</div>"
      ],
      "text/plain": [
       "              Ct    St  Unnamed: 7\n",
       "count  69.000000  69.0         0.0\n",
       "mean    0.942029   0.0         NaN\n",
       "std     0.855502   0.0         NaN\n",
       "min     0.000000   0.0         NaN\n",
       "25%     0.000000   0.0         NaN\n",
       "50%     1.000000   0.0         NaN\n",
       "75%     2.000000   0.0         NaN\n",
       "max     4.000000   0.0         NaN"
      ]
     },
     "execution_count": 10,
     "metadata": {},
     "output_type": "execute_result"
    }
   ],
   "source": [
    "data.describe()"
   ]
  },
  {
   "cell_type": "markdown",
   "id": "42dd9350",
   "metadata": {
    "papermill": {
     "duration": 0.022538,
     "end_time": "2021-10-16T18:02:13.333501",
     "exception": false,
     "start_time": "2021-10-16T18:02:13.310963",
     "status": "completed"
    },
    "tags": []
   },
   "source": [
    "* Pandas describe() is used to view some basic statistical details like percentile, mean, std,min,max,count....etc. of a data frame or a series of numeric values. we have the values of various statistical parameters like mean,min,count,max,etc for every coloumn"
   ]
  },
  {
   "cell_type": "code",
   "execution_count": 11,
   "id": "f442f99f",
   "metadata": {
    "execution": {
     "iopub.execute_input": "2021-10-16T18:02:13.382179Z",
     "iopub.status.busy": "2021-10-16T18:02:13.380695Z",
     "iopub.status.idle": "2021-10-16T18:02:13.763226Z",
     "shell.execute_reply": "2021-10-16T18:02:13.762713Z",
     "shell.execute_reply.started": "2021-10-16T18:01:39.321501Z"
    },
    "papermill": {
     "duration": 0.407633,
     "end_time": "2021-10-16T18:02:13.763367",
     "exception": false,
     "start_time": "2021-10-16T18:02:13.355734",
     "status": "completed"
    },
    "tags": []
   },
   "outputs": [
    {
     "data": {
      "text/plain": [
       "<AxesSubplot:>"
      ]
     },
     "execution_count": 11,
     "metadata": {},
     "output_type": "execute_result"
    },
    {
     "data": {
      "image/png": "[encoded data removed]",
      "text/plain": [
       "<Figure size 432x288 with 1 Axes>"
      ]
     },
     "metadata": {
      "needs_background": "light"
     },
     "output_type": "display_data"
    }
   ],
   "source": [
    "data.boxplot()"
   ]
  },
  {
   "cell_type": "markdown",
   "id": "46a34458",
   "metadata": {
    "papermill": {
     "duration": 0.022832,
     "end_time": "2021-10-16T18:02:13.809553",
     "exception": false,
     "start_time": "2021-10-16T18:02:13.786721",
     "status": "completed"
    },
    "tags": []
   },
   "source": [
    "* We have divided the data set into three quartiles using boxplot() function.\n",
    "* This graph represents the minimum, maximum, median, first quartile and third quartile in the data set. It is also useful in comparing the distribution of data across data sets by drawing boxplots for each of them."
   ]
  },
  {
   "cell_type": "code",
   "execution_count": 12,
   "id": "05e3032c",
   "metadata": {
    "execution": {
     "iopub.execute_input": "2021-10-16T18:02:13.865900Z",
     "iopub.status.busy": "2021-10-16T18:02:13.864865Z",
     "iopub.status.idle": "2021-10-16T18:02:13.868140Z",
     "shell.execute_reply": "2021-10-16T18:02:13.868609Z",
     "shell.execute_reply.started": "2021-10-16T18:01:39.577360Z"
    },
    "papermill": {
     "duration": 0.035948,
     "end_time": "2021-10-16T18:02:13.868783",
     "exception": false,
     "start_time": "2021-10-16T18:02:13.832835",
     "status": "completed"
    },
    "tags": []
   },
   "outputs": [
    {
     "data": {
      "text/plain": [
       "Bat1                   TDNB\n",
       "Bat2                    DNB\n",
       "Runs                     95\n",
       "Wkts                      0\n",
       "Conc                      9\n",
       "Ct                        4\n",
       "St                        0\n",
       "Unnamed: 7              NaN\n",
       "Opposition    v West Indies\n",
       "Ground           Wellington\n",
       "Start Date         9-Nov-16\n",
       "dtype: object"
      ]
     },
     "execution_count": 12,
     "metadata": {},
     "output_type": "execute_result"
    }
   ],
   "source": [
    "data.max()"
   ]
  },
  {
   "cell_type": "markdown",
   "id": "2ac49cd3",
   "metadata": {
    "papermill": {
     "duration": 0.023141,
     "end_time": "2021-10-16T18:02:13.915728",
     "exception": false,
     "start_time": "2021-10-16T18:02:13.892587",
     "status": "completed"
    },
    "tags": []
   },
   "source": [
    "max() returns the maximum value in each coloumn\n",
    "Hence,we've got the maximum values of each column in our data"
   ]
  },
  {
   "cell_type": "code",
   "execution_count": 13,
   "id": "c637223d",
   "metadata": {
    "execution": {
     "iopub.execute_input": "2021-10-16T18:02:13.966287Z",
     "iopub.status.busy": "2021-10-16T18:02:13.965660Z",
     "iopub.status.idle": "2021-10-16T18:02:13.974153Z",
     "shell.execute_reply": "2021-10-16T18:02:13.973649Z",
     "shell.execute_reply.started": "2021-10-16T18:01:39.591168Z"
    },
    "papermill": {
     "duration": 0.034971,
     "end_time": "2021-10-16T18:02:13.974289",
     "exception": false,
     "start_time": "2021-10-16T18:02:13.939318",
     "status": "completed"
    },
    "tags": []
   },
   "outputs": [
    {
     "data": {
      "text/plain": [
       "Bat1                    0\n",
       "Bat2                    -\n",
       "Runs                    -\n",
       "Wkts                    -\n",
       "Conc                    -\n",
       "Ct                      0\n",
       "St                      0\n",
       "Unnamed: 7            NaN\n",
       "Opposition    v Australia\n",
       "Ground           Adelaide\n",
       "Start Date       1-Aug-18\n",
       "dtype: object"
      ]
     },
     "execution_count": 13,
     "metadata": {},
     "output_type": "execute_result"
    }
   ],
   "source": [
    "data.min()"
   ]
  },
  {
   "cell_type": "markdown",
   "id": "e7ff5258",
   "metadata": {
    "papermill": {
     "duration": 0.023479,
     "end_time": "2021-10-16T18:02:14.021648",
     "exception": false,
     "start_time": "2021-10-16T18:02:13.998169",
     "status": "completed"
    },
    "tags": []
   },
   "source": []
  },
  {
   "cell_type": "markdown",
   "id": "2d636e36",
   "metadata": {
    "papermill": {
     "duration": 0.023553,
     "end_time": "2021-10-16T18:02:14.068957",
     "exception": false,
     "start_time": "2021-10-16T18:02:14.045404",
     "status": "completed"
    },
    "tags": []
   },
   "source": [
    "min() returns the minimum value in each coloumn\n",
    "Hence,we've got the minimum values of each column in our data"
   ]
  },
  {
   "cell_type": "code",
   "execution_count": 14,
   "id": "9c0e96dd",
   "metadata": {
    "execution": {
     "iopub.execute_input": "2021-10-16T18:02:14.121664Z",
     "iopub.status.busy": "2021-10-16T18:02:14.120990Z",
     "iopub.status.idle": "2021-10-16T18:02:14.604308Z",
     "shell.execute_reply": "2021-10-16T18:02:14.603753Z",
     "shell.execute_reply.started": "2021-10-16T18:01:39.612871Z"
    },
    "papermill": {
     "duration": 0.510942,
     "end_time": "2021-10-16T18:02:14.604449",
     "exception": false,
     "start_time": "2021-10-16T18:02:14.093507",
     "status": "completed"
    },
    "tags": []
   },
   "outputs": [
    {
     "data": {
      "text/plain": [
       "array([[<AxesSubplot:title={'center':'Ct'}>,\n",
       "        <AxesSubplot:title={'center':'St'}>],\n",
       "       [<AxesSubplot:title={'center':'Unnamed: 7'}>, <AxesSubplot:>]],\n",
       "      dtype=object)"
      ]
     },
     "execution_count": 14,
     "metadata": {},
     "output_type": "execute_result"
    },
    {
     "data": {
      "image/png": "[encoded data removed]",
      "text/plain": [
       "<Figure size 432x288 with 4 Axes>"
      ]
     },
     "metadata": {
      "needs_background": "light"
     },
     "output_type": "display_data"
    }
   ],
   "source": [
    "data.hist()"
   ]
  },
  {
   "cell_type": "markdown",
   "id": "8a67b621",
   "metadata": {
    "papermill": {
     "duration": 0.025338,
     "end_time": "2021-10-16T18:02:14.655730",
     "exception": false,
     "start_time": "2021-10-16T18:02:14.630392",
     "status": "completed"
    },
    "tags": []
   },
   "source": [
    "\n",
    "# Conclusion:\n",
    "from the above eximanation we observed that the runs made by kohli are increasing "
   ]
  }
 ],
 "metadata": {
  "kernelspec": {
   "display_name": "Python 3",
   "language": "python",
   "name": "python3"
  },
  "language_info": {
   "codemirror_mode": {
    "name": "ipython",
    "version": 3
   },
   "file_extension": ".py",
   "mimetype": "text/x-python",
   "name": "python",
   "nbconvert_exporter": "python",
   "pygments_lexer": "ipython3",
   "version": "3.7.10"
  },
  "papermill": {
   "default_parameters": {},
   "duration": 12.554731,
   "end_time": "2021-10-16T18:02:15.290030",
   "environment_variables": {},
   "exception": null,
   "input_path": "__notebook__.ipynb",
   "output_path": "__notebook__.ipynb",
   "parameters": {},
   "start_time": "2021-10-16T18:02:02.735299",
   "version": "2.3.3"
  }
 },
 "nbformat": 4,
 "nbformat_minor": 5
}
